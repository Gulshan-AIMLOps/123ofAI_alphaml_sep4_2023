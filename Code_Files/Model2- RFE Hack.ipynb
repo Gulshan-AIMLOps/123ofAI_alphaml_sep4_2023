{
 "cells": [
  {
   "cell_type": "code",
   "execution_count": null,
   "metadata": {
    "_cell_guid": "b1076dfc-b9ad-4769-8c92-a6c4dae69d19",
    "_uuid": "8f2839f25d086af736a60e9eeb907d3b93b6e0e5",
    "execution": {
     "iopub.execute_input": "2023-09-24T20:14:04.875814Z",
     "iopub.status.busy": "2023-09-24T20:14:04.875437Z",
     "iopub.status.idle": "2023-09-24T20:14:05.387151Z",
     "shell.execute_reply": "2023-09-24T20:14:05.385935Z",
     "shell.execute_reply.started": "2023-09-24T20:14:04.875783Z"
    }
   },
   "outputs": [],
   "source": [
    "# This Python 3 environment comes with many helpful analytics libraries installed\n",
    "# It is defined by the kaggle/python Docker image: https://github.com/kaggle/docker-python\n",
    "# For example, here's several helpful packages to load\n",
    "\n",
    "import numpy as np # linear algebra\n",
    "import pandas as pd # data processing, CSV file I/O (e.g. pd.read_csv)\n",
    "\n",
    "# Input data files are available in the read-only \"../input/\" directory\n",
    "# For example, running this (by clicking run or pressing Shift+Enter) will list all files under the input directory\n",
    "\n",
    "import os\n",
    "for dirname, _, filenames in os.walk('/kaggle/input'):\n",
    "    for filename in filenames:\n",
    "        print(os.path.join(dirname, filename))\n",
    "\n",
    "# You can write up to 20GB to the current directory (/kaggle/working/) that gets preserved as output when you create a version using \"Save & Run All\" \n",
    "# You can also write temporary files to /kaggle/temp/, but they won't be saved outside of the current session\n",
    "\n"
   ]
  },
  {
   "cell_type": "code",
   "execution_count": null,
   "metadata": {
    "execution": {
     "iopub.execute_input": "2023-09-24T20:14:05.391100Z",
     "iopub.status.busy": "2023-09-24T20:14:05.389680Z",
     "iopub.status.idle": "2023-09-24T20:14:07.878803Z",
     "shell.execute_reply": "2023-09-24T20:14:07.877482Z",
     "shell.execute_reply.started": "2023-09-24T20:14:05.391062Z"
    }
   },
   "outputs": [],
   "source": [
    "from sklearn.linear_model import LinearRegression\n",
    "from sklearn.preprocessing import StandardScaler\n",
    "import matplotlib.pyplot as plt\n",
    "from matplotlib.colors import ListedColormap\n",
    "import seaborn as sns\n",
    "from sklearn.model_selection import train_test_split\n",
    "from sklearn.metrics import r2_score, mean_squared_error"
   ]
  },
  {
   "cell_type": "markdown",
   "metadata": {},
   "source": [
    "## Data Preprocessing\n",
    "* Creating Pandas Dataframes\n",
    "* Checking the datatypes\n",
    "* Finding Data Patterns through graphical representation \n",
    "* Finding correlations"
   ]
  },
  {
   "cell_type": "code",
   "execution_count": null,
   "metadata": {
    "execution": {
     "iopub.execute_input": "2023-09-24T20:14:07.881136Z",
     "iopub.status.busy": "2023-09-24T20:14:07.880677Z",
     "iopub.status.idle": "2023-09-24T20:14:08.007681Z",
     "shell.execute_reply": "2023-09-24T20:14:08.003988Z",
     "shell.execute_reply.started": "2023-09-24T20:14:07.881091Z"
    }
   },
   "outputs": [],
   "source": [
    "mov_train = pd.read_csv('/kaggle/input/imdb-prediction-by-123-of-ai-weekend-hackathon/train_data.csv')\n",
    "mov_test = pd.read_csv('/kaggle/input/imdb-prediction-by-123-of-ai-weekend-hackathon/test_data_with_inputs.csv')\n",
    "print(mov_train.shape,mov_test.shape)"
   ]
  },
  {
   "cell_type": "code",
   "execution_count": null,
   "metadata": {
    "execution": {
     "iopub.execute_input": "2023-09-24T20:14:08.010738Z",
     "iopub.status.busy": "2023-09-24T20:14:08.009346Z",
     "iopub.status.idle": "2023-09-24T20:14:08.058974Z",
     "shell.execute_reply": "2023-09-24T20:14:08.057948Z",
     "shell.execute_reply.started": "2023-09-24T20:14:08.010684Z"
    }
   },
   "outputs": [],
   "source": [
    "mov_train.info()"
   ]
  },
  {
   "cell_type": "code",
   "execution_count": null,
   "metadata": {
    "execution": {
     "iopub.execute_input": "2023-09-24T20:14:08.062682Z",
     "iopub.status.busy": "2023-09-24T20:14:08.062021Z",
     "iopub.status.idle": "2023-09-24T20:14:08.073117Z",
     "shell.execute_reply": "2023-09-24T20:14:08.071810Z",
     "shell.execute_reply.started": "2023-09-24T20:14:08.062649Z"
    }
   },
   "outputs": [],
   "source": [
    "mov_train['genres']"
   ]
  },
  {
   "cell_type": "code",
   "execution_count": null,
   "metadata": {
    "execution": {
     "iopub.execute_input": "2023-09-24T20:14:08.075888Z",
     "iopub.status.busy": "2023-09-24T20:14:08.075471Z",
     "iopub.status.idle": "2023-09-24T20:14:08.115568Z",
     "shell.execute_reply": "2023-09-24T20:14:08.114050Z",
     "shell.execute_reply.started": "2023-09-24T20:14:08.075790Z"
    }
   },
   "outputs": [],
   "source": [
    "mov_train['genres'] = mov_train['genres'].str.split('|')\n",
    "mov_train['genre_1'] = mov_train['genres'].apply(lambda x: x[0])\n",
    "mov_train['genre_2'] = mov_train['genres'].apply(lambda x : x[1] if len(x) > 1 else x[0])\n",
    "mov_train['genre_1'],mov_train[ 'genre_2']\n"
   ]
  },
  {
   "cell_type": "code",
   "execution_count": null,
   "metadata": {
    "execution": {
     "iopub.execute_input": "2023-09-24T20:14:08.118672Z",
     "iopub.status.busy": "2023-09-24T20:14:08.117629Z",
     "iopub.status.idle": "2023-09-24T20:14:08.217799Z",
     "shell.execute_reply": "2023-09-24T20:14:08.216625Z",
     "shell.execute_reply.started": "2023-09-24T20:14:08.118601Z"
    }
   },
   "outputs": [],
   "source": [
    "mov_train.describe()"
   ]
  },
  {
   "cell_type": "code",
   "execution_count": null,
   "metadata": {
    "execution": {
     "iopub.execute_input": "2023-09-24T20:14:08.219928Z",
     "iopub.status.busy": "2023-09-24T20:14:08.219351Z",
     "iopub.status.idle": "2023-09-24T20:14:42.904740Z",
     "shell.execute_reply": "2023-09-24T20:14:42.903052Z",
     "shell.execute_reply.started": "2023-09-24T20:14:08.219895Z"
    }
   },
   "outputs": [],
   "source": [
    "sns.pairplot(mov_train[['actor_1_facebook_likes','actor_2_facebook_likes','actor_3_facebook_likes','director_facebook_likes','gross','Profit','genre_1', 'genre_2','critic_review_ratio', 'imdb_score']])\n",
    "plt.show()"
   ]
  },
  {
   "cell_type": "markdown",
   "metadata": {},
   "source": [
    "### ** from above bi-variate graphical analysis of numeric data - It seems lot of data has outliers and most of the univariate graphs show the spread is not normal but skewed. Removing out liers may help showing some patterns\n",
    "\n",
    "Also from the describe function we can see for some variables the difference between  mean to 75 percentile and that of 75 percentile to  Max is high. possible outliers"
   ]
  },
  {
   "cell_type": "code",
   "execution_count": null,
   "metadata": {
    "execution": {
     "iopub.execute_input": "2023-09-24T20:14:42.908265Z",
     "iopub.status.busy": "2023-09-24T20:14:42.906950Z",
     "iopub.status.idle": "2023-09-24T20:14:44.720411Z",
     "shell.execute_reply": "2023-09-24T20:14:44.719213Z",
     "shell.execute_reply.started": "2023-09-24T20:14:42.908214Z"
    }
   },
   "outputs": [],
   "source": [
    "plt.figure(figsize = (10, 2))\n",
    "sns.set_style('whitegrid')\n",
    "sns.histplot(mov_train['director_facebook_likes'], kde = True, color ='red')\n",
    "plt.show()"
   ]
  },
  {
   "cell_type": "code",
   "execution_count": null,
   "metadata": {
    "execution": {
     "iopub.execute_input": "2023-09-24T20:14:44.722750Z",
     "iopub.status.busy": "2023-09-24T20:14:44.722292Z",
     "iopub.status.idle": "2023-09-24T20:14:45.966331Z",
     "shell.execute_reply": "2023-09-24T20:14:45.965125Z",
     "shell.execute_reply.started": "2023-09-24T20:14:44.722709Z"
    }
   },
   "outputs": [],
   "source": [
    "plt.figure(figsize = (10, 2))\n",
    "sns.set_style('whitegrid')\n",
    "sns.histplot(mov_train['actor_1_facebook_likes'], kde = True, color ='red')\n",
    "#sns.pairplot(mov_train[['actor_1_facebook_likes','imdb_score']])\n",
    "plt.show()"
   ]
  },
  {
   "cell_type": "markdown",
   "metadata": {},
   "source": [
    "#### More than 50% actors dont have facebook likes - probably dont have facebook accounts but when lloking at the bi variate plot with IMDB SCORE many zero rating actors and directors have very high scores on IMDB"
   ]
  },
  {
   "cell_type": "markdown",
   "metadata": {},
   "source": [
    "## Understanding Object type variables"
   ]
  },
  {
   "cell_type": "code",
   "execution_count": null,
   "metadata": {
    "execution": {
     "iopub.execute_input": "2023-09-24T20:14:45.969238Z",
     "iopub.status.busy": "2023-09-24T20:14:45.968038Z",
     "iopub.status.idle": "2023-09-24T20:14:46.109999Z",
     "shell.execute_reply": "2023-09-24T20:14:46.108448Z",
     "shell.execute_reply.started": "2023-09-24T20:14:45.969193Z"
    }
   },
   "outputs": [],
   "source": [
    "mov_train.describe(include = [np.object])"
   ]
  },
  {
   "cell_type": "markdown",
   "metadata": {},
   "source": [
    "#### Language & has most of the data concentrated on one or two categories only. Counts to be looked closely."
   ]
  },
  {
   "cell_type": "code",
   "execution_count": null,
   "metadata": {
    "execution": {
     "iopub.execute_input": "2023-09-24T20:14:46.112033Z",
     "iopub.status.busy": "2023-09-24T20:14:46.111630Z",
     "iopub.status.idle": "2023-09-24T20:14:46.874251Z",
     "shell.execute_reply": "2023-09-24T20:14:46.872950Z",
     "shell.execute_reply.started": "2023-09-24T20:14:46.112000Z"
    }
   },
   "outputs": [],
   "source": [
    "plt.figure(figsize = (10, 2))\n",
    "sns.countplot(x ='language', data = mov_train)\n",
    "plt.show()\n",
    "mov_train[[\"language\"]].value_counts()"
   ]
  },
  {
   "cell_type": "code",
   "execution_count": null,
   "metadata": {
    "execution": {
     "iopub.execute_input": "2023-09-24T20:14:46.876785Z",
     "iopub.status.busy": "2023-09-24T20:14:46.876233Z",
     "iopub.status.idle": "2023-09-24T20:14:47.879776Z",
     "shell.execute_reply": "2023-09-24T20:14:47.878273Z",
     "shell.execute_reply.started": "2023-09-24T20:14:46.876754Z"
    }
   },
   "outputs": [],
   "source": [
    "plt.figure(figsize = (10, 2))\n",
    "sns.countplot(x ='country', data = mov_train)\n",
    "plt.show()\n",
    "mov_train[[\"country\"]].value_counts()"
   ]
  },
  {
   "cell_type": "code",
   "execution_count": null,
   "metadata": {
    "execution": {
     "iopub.execute_input": "2023-09-24T20:14:47.885757Z",
     "iopub.status.busy": "2023-09-24T20:14:47.885325Z",
     "iopub.status.idle": "2023-09-24T20:14:48.401369Z",
     "shell.execute_reply": "2023-09-24T20:14:48.399928Z",
     "shell.execute_reply.started": "2023-09-24T20:14:47.885722Z"
    }
   },
   "outputs": [],
   "source": [
    "plt.figure(figsize = (20, 2))\n",
    "sns.countplot(x ='genre_1', data = mov_train)\n",
    "plt.show()"
   ]
  },
  {
   "cell_type": "code",
   "execution_count": null,
   "metadata": {
    "execution": {
     "iopub.execute_input": "2023-09-24T20:14:48.403290Z",
     "iopub.status.busy": "2023-09-24T20:14:48.402929Z",
     "iopub.status.idle": "2023-09-24T20:14:53.743518Z",
     "shell.execute_reply": "2023-09-24T20:14:53.742149Z",
     "shell.execute_reply.started": "2023-09-24T20:14:48.403262Z"
    }
   },
   "outputs": [],
   "source": [
    "plt.figure(figsize=(20, 12))\n",
    "plt.subplot(5,1,1)\n",
    "sns.boxplot(x = 'language', y = 'imdb_score', data = mov_train)\n",
    "plt.subplot(5,1,2)\n",
    "sns.boxplot(x = 'country', y = 'imdb_score', data = mov_train)\n",
    "plt.subplot(5,1,3)\n",
    "sns.boxplot(x = 'genre_1', y = 'imdb_score', data = mov_train)\n",
    "plt.subplot(5,1,4)\n",
    "sns.boxplot(x = 'genre_2', y = 'imdb_score', data = mov_train)\n",
    "plt.subplot(5,1,5)\n",
    "sns.boxplot(x = 'content_rating', y = 'imdb_score', data = mov_train)\n",
    "plt.show()"
   ]
  },
  {
   "cell_type": "markdown",
   "metadata": {},
   "source": [
    "### From above Bi-variate analysis of some object variables of probable higher significance shows Genres and Content_rating certainly has a less categories and the data is well spread among vrious values and I believe this make these variables more valuable in defining the data."
   ]
  },
  {
   "cell_type": "code",
   "execution_count": null,
   "metadata": {
    "execution": {
     "iopub.execute_input": "2023-09-24T20:14:53.745732Z",
     "iopub.status.busy": "2023-09-24T20:14:53.745264Z",
     "iopub.status.idle": "2023-09-24T20:14:58.611562Z",
     "shell.execute_reply": "2023-09-24T20:14:58.610160Z",
     "shell.execute_reply.started": "2023-09-24T20:14:53.745681Z"
    }
   },
   "outputs": [],
   "source": [
    "plt.figure(figsize = (20, 5))\n",
    "sns.boxplot(x = 'content_rating', y = 'imdb_score', hue = 'genre_1', data = mov_train)\n",
    "plt.show()"
   ]
  },
  {
   "cell_type": "code",
   "execution_count": null,
   "metadata": {
    "execution": {
     "iopub.execute_input": "2023-09-24T20:14:58.614491Z",
     "iopub.status.busy": "2023-09-24T20:14:58.613783Z",
     "iopub.status.idle": "2023-09-24T20:15:05.642232Z",
     "shell.execute_reply": "2023-09-24T20:15:05.640881Z",
     "shell.execute_reply.started": "2023-09-24T20:14:58.614447Z"
    }
   },
   "outputs": [],
   "source": [
    "plt.figure(figsize = (20, 5))\n",
    "sns.boxplot(x = 'content_rating', y = 'imdb_score', hue = 'genre_2', data = mov_train)\n",
    "plt.show()"
   ]
  },
  {
   "cell_type": "code",
   "execution_count": null,
   "metadata": {
    "execution": {
     "iopub.execute_input": "2023-09-24T20:15:05.645072Z",
     "iopub.status.busy": "2023-09-24T20:15:05.644088Z",
     "iopub.status.idle": "2023-09-24T20:15:06.189786Z",
     "shell.execute_reply": "2023-09-24T20:15:06.188374Z",
     "shell.execute_reply.started": "2023-09-24T20:15:05.645035Z"
    }
   },
   "outputs": [],
   "source": [
    "plt.figure(figsize = (20, 2))\n",
    "sns.countplot(x ='genre_2', data = mov_train)\n",
    "plt.show()"
   ]
  },
  {
   "cell_type": "code",
   "execution_count": null,
   "metadata": {
    "execution": {
     "iopub.execute_input": "2023-09-24T20:15:06.191613Z",
     "iopub.status.busy": "2023-09-24T20:15:06.191295Z",
     "iopub.status.idle": "2023-09-24T20:15:06.674672Z",
     "shell.execute_reply": "2023-09-24T20:15:06.673281Z",
     "shell.execute_reply.started": "2023-09-24T20:15:06.191585Z"
    }
   },
   "outputs": [],
   "source": [
    "plt.figure(figsize = (20, 2))\n",
    "sns.countplot(x ='genre_1', data = mov_train)\n",
    "plt.show()"
   ]
  },
  {
   "cell_type": "markdown",
   "metadata": {},
   "source": [
    "# ---------------------------------------------------------------------------------------------------------------"
   ]
  },
  {
   "cell_type": "markdown",
   "metadata": {},
   "source": [
    "## Feature Engineering\n",
    "* Convert Dummy Variables for Language, Country, Genre & Content Rating"
   ]
  },
  {
   "cell_type": "code",
   "execution_count": null,
   "metadata": {
    "execution": {
     "iopub.execute_input": "2023-09-24T20:15:06.676511Z",
     "iopub.status.busy": "2023-09-24T20:15:06.676144Z",
     "iopub.status.idle": "2023-09-24T20:15:06.708413Z",
     "shell.execute_reply": "2023-09-24T20:15:06.707099Z",
     "shell.execute_reply.started": "2023-09-24T20:15:06.676480Z"
    }
   },
   "outputs": [],
   "source": [
    "d = {'English' : 'lang_English', 'French' : 'lang_Other', 'Spanish' : 'lang_Other', 'Mandarin' : 'lang_Other', 'Hindi' : 'lang_Other', 'German' : 'lang_Other', 'Japanese' : 'lang_Other', 'Russian' : 'lang_Other', 'Cantonese' : 'lang_Other', 'Italian' : 'lang_Other', 'Korean' : 'lang_Other', 'Portuguese' : 'lang_Other', 'Danish' : 'lang_Other', 'Persian' : 'lang_Other', 'Norwegian' : 'lang_Other', 'Dutch' : 'lang_Other', 'Hebrew' : 'lang_Other', 'Arabic' : 'lang_Other', 'Swedish' : 'lang_Other', 'Thai' : 'lang_Other', 'Aboriginal' : 'lang_Other', 'Dari' : 'lang_Other', 'Zulu' : 'lang_Other', 'Kazakh' : 'lang_Other', 'Indonesian' : 'lang_Other', 'Maya' : 'lang_Other', 'Mongolian' : 'lang_Other', 'Icelandic' : 'lang_Other', 'Hungarian' : 'lang_Other', 'Polish' : 'lang_Other', 'Greek' : 'lang_Other', 'Romanian' : 'lang_Other', 'Dzongkha' : 'lang_Other', 'Czech' : 'lang_Other', 'Telugu' : 'lang_Other', 'Bosnian' : 'lang_Other', 'Vietnamese' : 'lang_Other'}\n",
    "mov_train[['language']] = mov_train[['language']].apply(lambda x: x.map(d))\n",
    "lang=pd.get_dummies(mov_train['language'])\n",
    "lang.drop('lang_Other', axis = 1, inplace = True)\n",
    "\n",
    "lang[['lang_English']] = lang[['lang_English']].apply(lambda x: x.map({True:1, False:0}))\n",
    "lang.head()"
   ]
  },
  {
   "cell_type": "code",
   "execution_count": null,
   "metadata": {
    "execution": {
     "iopub.execute_input": "2023-09-24T20:15:06.710725Z",
     "iopub.status.busy": "2023-09-24T20:15:06.710378Z",
     "iopub.status.idle": "2023-09-24T20:15:06.753235Z",
     "shell.execute_reply": "2023-09-24T20:15:06.751872Z",
     "shell.execute_reply.started": "2023-09-24T20:15:06.710697Z"
    }
   },
   "outputs": [],
   "source": [
    "mov_train = pd.concat([mov_train, lang], axis = 1)\n",
    "mov_train.drop(['language'], axis = 1, inplace = True)\n",
    "mov_train.head()"
   ]
  },
  {
   "cell_type": "code",
   "execution_count": null,
   "metadata": {
    "execution": {
     "iopub.execute_input": "2023-09-24T20:15:06.756483Z",
     "iopub.status.busy": "2023-09-24T20:15:06.755381Z",
     "iopub.status.idle": "2023-09-24T20:15:06.814905Z",
     "shell.execute_reply": "2023-09-24T20:15:06.814020Z",
     "shell.execute_reply.started": "2023-09-24T20:15:06.756431Z"
    }
   },
   "outputs": [],
   "source": [
    "d = {'USA' : 'country_USA', 'UK' : 'country_UK', 'France' : 'country_FR', 'Canada' : 'country_Other', 'Germany' : 'country_Other', 'Australia' : 'country_Other', 'Spain' : 'country_Other', 'India' : 'country_Other', 'China' : 'country_Other', 'Italy' : 'country_Other', 'Japan' : 'country_Other', 'Hong Kong' : 'country_Other', 'New Zealand' : 'country_Other', 'South Korea' : 'country_Other', 'Mexico' : 'country_Other', 'Denmark' : 'country_Other', 'Russia' : 'country_Other', 'Ireland' : 'country_Other', 'Brazil' : 'country_Other', 'South Africa' : 'country_Other', 'Norway' : 'country_Other', 'Netherlands' : 'country_Other', 'Sweden' : 'country_Other', 'Switzerland' : 'country_Other', 'Thailand' : 'country_Other', 'West Germany' : 'country_Other', 'Iran' : 'country_Other', 'Czech Republic' : 'country_Other', 'Israel' : 'country_Other', 'Iceland' : 'country_Other', 'Belgium' : 'country_Other', 'Romania' : 'country_Other', 'Argentina' : 'country_Other', 'Finland' : 'country_Other', 'Bahamas' : 'country_Other', 'Turkey' : 'country_Other', 'Bulgaria' : 'country_Other', 'Taiwan' : 'country_Other', 'Cambodia' : 'country_Other', 'Chile' : 'country_Other', 'Colombia' : 'country_Other', 'Soviet Union' : 'country_Other', 'Georgia' : 'country_Other', 'Slovakia' : 'country_Other', 'Poland' : 'country_Other', 'Philippines' : 'country_Other', 'Peru' : 'country_Other', 'Official site' : 'country_Other', 'Greece' : 'country_Other', 'Nigeria' : 'country_Other', 'Hungary' : 'country_Other', 'New Line' : 'country_Other', 'Libya' : 'country_Other', 'Afghanistan' : 'country_Other'}\n",
    "mov_train[['country']] = mov_train[['country']].apply(lambda x: x.map(d))\n",
    "country=pd.get_dummies(mov_train['country'])\n",
    "country.drop('country_Other', axis = 1, inplace = True)\n",
    "country[['country_USA']] = country[['country_USA']].apply(lambda x: x.map({True:1, False:0}))\n",
    "country[['country_UK']] = country[['country_UK']].apply(lambda x: x.map({True:1, False:0}))\n",
    "country[['country_FR']] = country[['country_FR']].apply(lambda x: x.map({True:1, False:0}))\n",
    "\n",
    "mov_train = pd.concat([mov_train, country], axis = 1)\n",
    "mov_train.drop(['country'], axis = 1, inplace = True)\n",
    "mov_train.head()"
   ]
  },
  {
   "cell_type": "code",
   "execution_count": null,
   "metadata": {
    "execution": {
     "iopub.execute_input": "2023-09-24T20:15:06.816216Z",
     "iopub.status.busy": "2023-09-24T20:15:06.815889Z",
     "iopub.status.idle": "2023-09-24T20:15:06.892571Z",
     "shell.execute_reply": "2023-09-24T20:15:06.891133Z",
     "shell.execute_reply.started": "2023-09-24T20:15:06.816189Z"
    }
   },
   "outputs": [],
   "source": [
    "d={'Drama' : 'genre_Drama', 'Comedy' : 'genre_Comedy', 'Action' : 'genre_Action', 'Adventure' : 'genre_Adventure', 'Crime' : 'genre_Crime', 'Horror' : 'genre_Horror', 'Romance' : 'genre_Romance', 'Biography' : 'genre_other', 'Thriller' : 'genre_other', 'Mystery' : 'genre_other', 'Fantasy' : 'genre_other', 'Animation' : 'genre_other', 'Family' : 'genre_other', 'Sci-Fi' : 'genre_other', 'Documentary' : 'genre_other', 'Music' : 'genre_other', 'History' : 'genre_other', 'Sport' : 'genre_other', 'War' : 'genre_other', 'Western' : 'genre_other', 'Musical' : 'genre_other', 'Film-Noir' : 'genre_other', 'News' : 'genre_other'}\n",
    "mov_train[['genre_1']] = mov_train[['genre_1']].apply(lambda x: x.map(d))\n",
    "genre=pd.get_dummies(mov_train['genre_1'])\n",
    "genre.drop('genre_other', axis = 1, inplace = True)\n",
    "genre[['genre_Drama']] = genre[['genre_Drama']].apply(lambda x: x.map({True:1, False:0}))\n",
    "genre[['genre_Comedy']] = genre[['genre_Comedy']].apply(lambda x: x.map({True:1, False:0}))\n",
    "genre[['genre_Action']] = genre[['genre_Action']].apply(lambda x: x.map({True:1, False:0}))\n",
    "genre[['genre_Adventure']] = genre[['genre_Adventure']].apply(lambda x: x.map({True:1, False:0}))\n",
    "genre[['genre_Crime']] = genre[['genre_Crime']].apply(lambda x: x.map({True:1, False:0}))\n",
    "genre[['genre_Horror']] = genre[['genre_Horror']].apply(lambda x: x.map({True:1, False:0}))\n",
    "genre[['genre_Romance']] = genre[['genre_Romance']].apply(lambda x: x.map({True:1, False:0}))\n",
    "mov_train = pd.concat([mov_train, genre], axis = 1)\n",
    "mov_train.drop(['genre_1'], axis = 1, inplace = True)\n",
    "mov_train.drop(['genre_2'], axis = 1, inplace = True)\n",
    "mov_train.head()"
   ]
  },
  {
   "cell_type": "code",
   "execution_count": null,
   "metadata": {
    "execution": {
     "iopub.execute_input": "2023-09-24T20:15:06.895930Z",
     "iopub.status.busy": "2023-09-24T20:15:06.894486Z",
     "iopub.status.idle": "2023-09-24T20:15:06.954124Z",
     "shell.execute_reply": "2023-09-24T20:15:06.952430Z",
     "shell.execute_reply.started": "2023-09-24T20:15:06.895893Z"
    }
   },
   "outputs": [],
   "source": [
    "d={'R' : 'contentRate_R', 'PG-13' : 'contentRate_PG-13', 'PG' : 'contentRate_PG', 'G' : 'contentRate_other', 'Not Rated' : 'contentRate_other', 'Unrated' : 'contentRate_other', 'Approved' : 'contentRate_other', 'X' : 'contentRate_other', 'NC-17' : 'contentRate_other', 'GP' : 'contentRate_other', 'Passed' : 'contentRate_other', 'M' : 'contentRate_other', 'TV-14' : 'contentRate_other', 'TV-G' : 'contentRate_other', 'TV-PG' : 'contentRate_other'}\n",
    "mov_train[['content_rating']] = mov_train[['content_rating']].apply(lambda x: x.map(d))\n",
    "cnt_rt=pd.get_dummies(mov_train['content_rating'])\n",
    "cnt_rt.drop('contentRate_other', axis = 1, inplace = True)\n",
    "cnt_rt[['contentRate_R']] = cnt_rt[['contentRate_R']].apply(lambda x: x.map({True:1, False:0}))\n",
    "cnt_rt[['contentRate_PG-13']] = cnt_rt[['contentRate_PG-13']].apply(lambda x: x.map({True:1, False:0}))\n",
    "cnt_rt[['contentRate_PG']] = cnt_rt[['contentRate_PG']].apply(lambda x: x.map({True:1, False:0}))\n",
    "mov_train = pd.concat([mov_train, cnt_rt], axis = 1)\n",
    "mov_train.drop(['content_rating'], axis = 1, inplace = True)\n",
    "mov_train.head()"
   ]
  },
  {
   "cell_type": "markdown",
   "metadata": {},
   "source": [
    "#### Lets drop some variblaes which we havent convertedfrom Object & doesnt look of much significance"
   ]
  },
  {
   "cell_type": "code",
   "execution_count": null,
   "metadata": {
    "execution": {
     "iopub.execute_input": "2023-09-24T20:15:06.956144Z",
     "iopub.status.busy": "2023-09-24T20:15:06.955747Z",
     "iopub.status.idle": "2023-09-24T20:15:06.965054Z",
     "shell.execute_reply": "2023-09-24T20:15:06.963591Z",
     "shell.execute_reply.started": "2023-09-24T20:15:06.956111Z"
    }
   },
   "outputs": [],
   "source": [
    "mov_train.drop(['director_name','actor_3_name','actor_2_name', 'genres','actor_1_name', 'movie_title', 'facenumber_in_poster','plot_keywords'], axis = 1, inplace = True)"
   ]
  },
  {
   "cell_type": "code",
   "execution_count": null,
   "metadata": {
    "execution": {
     "iopub.execute_input": "2023-09-24T20:15:06.967545Z",
     "iopub.status.busy": "2023-09-24T20:15:06.967035Z",
     "iopub.status.idle": "2023-09-24T20:15:06.983134Z",
     "shell.execute_reply": "2023-09-24T20:15:06.981975Z",
     "shell.execute_reply.started": "2023-09-24T20:15:06.967476Z"
    }
   },
   "outputs": [],
   "source": [
    "mov_train = pd.DataFrame(mov_train).set_index('s_no')"
   ]
  },
  {
   "cell_type": "markdown",
   "metadata": {},
   "source": [
    "## Replicating changes in Test Matrix"
   ]
  },
  {
   "cell_type": "code",
   "execution_count": null,
   "metadata": {
    "execution": {
     "iopub.execute_input": "2023-09-24T20:15:06.985665Z",
     "iopub.status.busy": "2023-09-24T20:15:06.984750Z",
     "iopub.status.idle": "2023-09-24T20:15:07.046594Z",
     "shell.execute_reply": "2023-09-24T20:15:07.045198Z",
     "shell.execute_reply.started": "2023-09-24T20:15:06.985619Z"
    }
   },
   "outputs": [],
   "source": [
    "d = {'English' : 'lang_English', 'French' : 'lang_Other', 'Spanish' : 'lang_Other', 'Mandarin' : 'lang_Other', 'Hindi' : 'lang_Other', 'German' : 'lang_Other', 'Japanese' : 'lang_Other', 'Russian' : 'lang_Other', 'Cantonese' : 'lang_Other', 'Italian' : 'lang_Other', 'Korean' : 'lang_Other', 'Portuguese' : 'lang_Other', 'Danish' : 'lang_Other', 'Persian' : 'lang_Other', 'Norwegian' : 'lang_Other', 'Dutch' : 'lang_Other', 'Hebrew' : 'lang_Other', 'Arabic' : 'lang_Other', 'Swedish' : 'lang_Other', 'Thai' : 'lang_Other', 'Aboriginal' : 'lang_Other', 'Dari' : 'lang_Other', 'Zulu' : 'lang_Other', 'Kazakh' : 'lang_Other', 'Indonesian' : 'lang_Other', 'Maya' : 'lang_Other', 'Mongolian' : 'lang_Other', 'Icelandic' : 'lang_Other', 'Hungarian' : 'lang_Other', 'Polish' : 'lang_Other', 'Greek' : 'lang_Other', 'Romanian' : 'lang_Other', 'Dzongkha' : 'lang_Other', 'Czech' : 'lang_Other', 'Telugu' : 'lang_Other', 'Bosnian' : 'lang_Other', 'Vietnamese' : 'lang_Other'}\n",
    "mov_test[['language']] = mov_test[['language']].apply(lambda x: x.map(d))\n",
    "lang=pd.get_dummies(mov_test['language'])\n",
    "lang.drop('lang_Other', axis = 1, inplace = True)\n",
    "mov_test = pd.concat([mov_test, lang], axis = 1)\n",
    "mov_test.drop(['language'], axis = 1, inplace = True)\n",
    "mov_test.head()"
   ]
  },
  {
   "cell_type": "code",
   "execution_count": null,
   "metadata": {
    "execution": {
     "iopub.execute_input": "2023-09-24T20:15:07.049768Z",
     "iopub.status.busy": "2023-09-24T20:15:07.049194Z",
     "iopub.status.idle": "2023-09-24T20:15:07.101648Z",
     "shell.execute_reply": "2023-09-24T20:15:07.100689Z",
     "shell.execute_reply.started": "2023-09-24T20:15:07.049711Z"
    }
   },
   "outputs": [],
   "source": [
    "d = {'USA' : 'country_USA', 'UK' : 'country_UK', 'France' : 'country_FR', 'Canada' : 'country_Other', 'Germany' : 'country_Other', 'Australia' : 'country_Other', 'Spain' : 'country_Other', 'India' : 'country_Other', 'China' : 'country_Other', 'Italy' : 'country_Other', 'Japan' : 'country_Other', 'Hong Kong' : 'country_Other', 'New Zealand' : 'country_Other', 'South Korea' : 'country_Other', 'Mexico' : 'country_Other', 'Denmark' : 'country_Other', 'Russia' : 'country_Other', 'Ireland' : 'country_Other', 'Brazil' : 'country_Other', 'South Africa' : 'country_Other', 'Norway' : 'country_Other', 'Netherlands' : 'country_Other', 'Sweden' : 'country_Other', 'Switzerland' : 'country_Other', 'Thailand' : 'country_Other', 'West Germany' : 'country_Other', 'Iran' : 'country_Other', 'Czech Republic' : 'country_Other', 'Israel' : 'country_Other', 'Iceland' : 'country_Other', 'Belgium' : 'country_Other', 'Romania' : 'country_Other', 'Argentina' : 'country_Other', 'Finland' : 'country_Other', 'Bahamas' : 'country_Other', 'Turkey' : 'country_Other', 'Bulgaria' : 'country_Other', 'Taiwan' : 'country_Other', 'Cambodia' : 'country_Other', 'Chile' : 'country_Other', 'Colombia' : 'country_Other', 'Soviet Union' : 'country_Other', 'Georgia' : 'country_Other', 'Slovakia' : 'country_Other', 'Poland' : 'country_Other', 'Philippines' : 'country_Other', 'Peru' : 'country_Other', 'Official site' : 'country_Other', 'Greece' : 'country_Other', 'Nigeria' : 'country_Other', 'Hungary' : 'country_Other', 'New Line' : 'country_Other', 'Libya' : 'country_Other', 'Afghanistan' : 'country_Other'}\n",
    "mov_test[['country']] = mov_test[['country']].apply(lambda x: x.map(d))\n",
    "country=pd.get_dummies(mov_test['country'])\n",
    "country.drop('country_Other', axis = 1, inplace = True)\n",
    "mov_test = pd.concat([mov_test, country], axis = 1)\n",
    "mov_test.drop(['country'], axis = 1, inplace = True)\n",
    "mov_test.head()"
   ]
  },
  {
   "cell_type": "code",
   "execution_count": null,
   "metadata": {
    "execution": {
     "iopub.execute_input": "2023-09-24T20:15:07.104142Z",
     "iopub.status.busy": "2023-09-24T20:15:07.103024Z",
     "iopub.status.idle": "2023-09-24T20:15:07.120991Z",
     "shell.execute_reply": "2023-09-24T20:15:07.119067Z",
     "shell.execute_reply.started": "2023-09-24T20:15:07.104107Z"
    }
   },
   "outputs": [],
   "source": [
    "mov_test['genres'] = mov_test['genres'].str.split('|')\n",
    "mov_test['genre_1'] = mov_test['genres'].apply(lambda x: x[0])\n",
    "mov_test['genre_2'] = mov_test['genres'].apply(lambda x : x[1] if len(x) > 1 else x[0])\n",
    "mov_test['genre_1'],mov_test[ 'genre_2']\n"
   ]
  },
  {
   "cell_type": "code",
   "execution_count": null,
   "metadata": {
    "execution": {
     "iopub.execute_input": "2023-09-24T20:15:07.123167Z",
     "iopub.status.busy": "2023-09-24T20:15:07.122734Z",
     "iopub.status.idle": "2023-09-24T20:15:07.176689Z",
     "shell.execute_reply": "2023-09-24T20:15:07.175229Z",
     "shell.execute_reply.started": "2023-09-24T20:15:07.123136Z"
    }
   },
   "outputs": [],
   "source": [
    "d={'Drama' : 'genre_Drama', 'Comedy' : 'genre_Comedy', 'Action' : 'genre_Action', 'Adventure' : 'genre_Adventure', 'Crime' : 'genre_Crime', 'Horror' : 'genre_Horror', 'Romance' : 'genre_Romance', 'Biography' : 'genre_other', 'Thriller' : 'genre_other', 'Mystery' : 'genre_other', 'Fantasy' : 'genre_other', 'Animation' : 'genre_other', 'Family' : 'genre_other', 'Sci-Fi' : 'genre_other', 'Documentary' : 'genre_other', 'Music' : 'genre_other', 'History' : 'genre_other', 'Sport' : 'genre_other', 'War' : 'genre_other', 'Western' : 'genre_other', 'Musical' : 'genre_other', 'Film-Noir' : 'genre_other', 'News' : 'genre_other'}\n",
    "mov_test[['genre_1']] = mov_test[['genre_1']].apply(lambda x: x.map(d))\n",
    "genre=pd.get_dummies(mov_test['genre_1'])\n",
    "genre.drop('genre_other', axis = 1, inplace = True)\n",
    "mov_test = pd.concat([mov_test, genre], axis = 1)\n",
    "mov_test.drop(['genre_1'], axis = 1, inplace = True)\n",
    "mov_test.drop(['genre_2'], axis = 1, inplace = True)\n",
    "mov_test.head()"
   ]
  },
  {
   "cell_type": "code",
   "execution_count": null,
   "metadata": {
    "execution": {
     "iopub.execute_input": "2023-09-24T20:15:07.179311Z",
     "iopub.status.busy": "2023-09-24T20:15:07.178825Z",
     "iopub.status.idle": "2023-09-24T20:15:07.225574Z",
     "shell.execute_reply": "2023-09-24T20:15:07.224609Z",
     "shell.execute_reply.started": "2023-09-24T20:15:07.179269Z"
    }
   },
   "outputs": [],
   "source": [
    "d={'R' : 'contentRate_R', 'PG-13' : 'contentRate_PG-13', 'PG' : 'contentRate_PG', 'G' : 'contentRate_other', 'Not Rated' : 'contentRate_other', 'Unrated' : 'contentRate_other', 'Approved' : 'contentRate_other', 'X' : 'contentRate_other', 'NC-17' : 'contentRate_other', 'GP' : 'contentRate_other', 'Passed' : 'contentRate_other', 'M' : 'contentRate_other', 'TV-14' : 'contentRate_other', 'TV-G' : 'contentRate_other', 'TV-PG' : 'contentRate_other'}\n",
    "mov_test[['content_rating']] = mov_test[['content_rating']].apply(lambda x: x.map(d))\n",
    "cnt_rt=pd.get_dummies(mov_test['content_rating'])\n",
    "cnt_rt.drop('contentRate_other', axis = 1, inplace = True)\n",
    "mov_test = pd.concat([mov_test, cnt_rt], axis = 1)\n",
    "mov_test.drop(['content_rating'], axis = 1, inplace = True)\n",
    "mov_test.head()"
   ]
  },
  {
   "cell_type": "code",
   "execution_count": null,
   "metadata": {
    "execution": {
     "iopub.execute_input": "2023-09-24T20:15:07.227573Z",
     "iopub.status.busy": "2023-09-24T20:15:07.227232Z",
     "iopub.status.idle": "2023-09-24T20:15:07.235208Z",
     "shell.execute_reply": "2023-09-24T20:15:07.233864Z",
     "shell.execute_reply.started": "2023-09-24T20:15:07.227545Z"
    }
   },
   "outputs": [],
   "source": [
    "mov_test.drop(['director_name','actor_3_name','actor_2_name', 'actor_1_name', 'movie_title', 'num_voted_users','genres', 'facenumber_in_poster','plot_keywords'], axis = 1, inplace = True)"
   ]
  },
  {
   "cell_type": "code",
   "execution_count": null,
   "metadata": {
    "execution": {
     "iopub.execute_input": "2023-09-24T20:15:07.237433Z",
     "iopub.status.busy": "2023-09-24T20:15:07.237007Z",
     "iopub.status.idle": "2023-09-24T20:15:07.267069Z",
     "shell.execute_reply": "2023-09-24T20:15:07.266064Z",
     "shell.execute_reply.started": "2023-09-24T20:15:07.237394Z"
    }
   },
   "outputs": [],
   "source": [
    "mov_test.info()"
   ]
  },
  {
   "cell_type": "code",
   "execution_count": null,
   "metadata": {
    "execution": {
     "iopub.execute_input": "2023-09-24T20:15:07.270058Z",
     "iopub.status.busy": "2023-09-24T20:15:07.269464Z",
     "iopub.status.idle": "2023-09-24T20:15:07.296189Z",
     "shell.execute_reply": "2023-09-24T20:15:07.294425Z",
     "shell.execute_reply.started": "2023-09-24T20:15:07.270012Z"
    }
   },
   "outputs": [],
   "source": [
    "mov_train.info()"
   ]
  },
  {
   "cell_type": "markdown",
   "metadata": {},
   "source": [
    "# ---------------------------------------------------------------------------------------------------------------------"
   ]
  },
  {
   "cell_type": "markdown",
   "metadata": {},
   "source": [
    "## Setting up Train Test Sets & Model Creation"
   ]
  },
  {
   "cell_type": "code",
   "execution_count": null,
   "metadata": {
    "execution": {
     "iopub.execute_input": "2023-09-24T20:15:07.298698Z",
     "iopub.status.busy": "2023-09-24T20:15:07.298304Z",
     "iopub.status.idle": "2023-09-24T20:15:07.337199Z",
     "shell.execute_reply": "2023-09-24T20:15:07.335788Z",
     "shell.execute_reply.started": "2023-09-24T20:15:07.298665Z"
    }
   },
   "outputs": [],
   "source": [
    "np.random.seed(0)\n",
    "df_train, df_test = train_test_split(mov_train, train_size = 0.7, test_size = 0.3, random_state = 100)\n",
    "df_train.head()"
   ]
  },
  {
   "cell_type": "code",
   "execution_count": null,
   "metadata": {
    "execution": {
     "iopub.execute_input": "2023-09-24T20:17:47.768614Z",
     "iopub.status.busy": "2023-09-24T20:17:47.768100Z",
     "iopub.status.idle": "2023-09-24T20:17:47.806082Z",
     "shell.execute_reply": "2023-09-24T20:17:47.804825Z",
     "shell.execute_reply.started": "2023-09-24T20:17:47.768577Z"
    }
   },
   "outputs": [],
   "source": [
    "\n",
    "from sklearn.preprocessing import MinMaxScaler\n",
    "scaler = MinMaxScaler()\n",
    "# Apply scaler() to all the columns except the 'yes-no' and 'dummy' variables\n",
    "num_vars = ['director_facebook_likes', 'actor_3_facebook_likes', 'actor_1_facebook_likes', 'gross', 'budget', 'title_year', 'actor_2_facebook_likes', 'aspect_ratio', 'movie_facebook_likes', 'Profit', 'Profit_Percentage', 'critic_review_ratio']\n",
    "\n",
    "# scaler fit & transform both are done over the train set. \n",
    "# specifically the fit is used on test and that is used as fitting standard so as to keep  us from overfit issues\n",
    "df_train[num_vars] = scaler.fit_transform(df_train[num_vars])\n",
    "df_train.head()"
   ]
  },
  {
   "cell_type": "code",
   "execution_count": null,
   "metadata": {
    "execution": {
     "iopub.execute_input": "2023-09-24T20:18:10.253396Z",
     "iopub.status.busy": "2023-09-24T20:18:10.252936Z",
     "iopub.status.idle": "2023-09-24T20:18:10.272555Z",
     "shell.execute_reply": "2023-09-24T20:18:10.270859Z",
     "shell.execute_reply.started": "2023-09-24T20:18:10.253363Z"
    }
   },
   "outputs": [],
   "source": [
    "df_train.info()"
   ]
  },
  {
   "cell_type": "code",
   "execution_count": null,
   "metadata": {
    "execution": {
     "iopub.execute_input": "2023-09-24T20:18:35.377978Z",
     "iopub.status.busy": "2023-09-24T20:18:35.377531Z",
     "iopub.status.idle": "2023-09-24T20:18:38.913642Z",
     "shell.execute_reply": "2023-09-24T20:18:38.912229Z",
     "shell.execute_reply.started": "2023-09-24T20:18:35.377947Z"
    }
   },
   "outputs": [],
   "source": [
    "plt.figure(figsize = (25, 10))\n",
    "sns.heatmap(df_train.corr(), annot = True, cmap=\"YlGnBu\")\n",
    "plt.show()"
   ]
  },
  {
   "cell_type": "markdown",
   "metadata": {},
   "source": [
    "### Above Heatmap is depicting \n",
    "* High Correlation between \n",
    "    1. Budget & Profit\n",
    "    2. cast_total_facebook_likes & actor_1_facebook_likes ---> this is quite possible as one data is derived from other\n",
    "* Considerable reverse correlation \n",
    "    1. between gross & num_voted_users\n",
    "    2. between movie_facebook_likes & num_voted_users\n",
    "    3. cast_total_facebook_likes & actor_2_facebook_likes ---> this is quite possible as one data is derived from other\n",
    "    \n",
    "    \n",
    "*  imdb_score also has clear correlation with  duration & num_Voted_users "
   ]
  },
  {
   "cell_type": "code",
   "execution_count": null,
   "metadata": {
    "execution": {
     "iopub.execute_input": "2023-09-24T20:18:51.716755Z",
     "iopub.status.busy": "2023-09-24T20:18:51.716290Z",
     "iopub.status.idle": "2023-09-24T20:18:51.723707Z",
     "shell.execute_reply": "2023-09-24T20:18:51.722181Z",
     "shell.execute_reply.started": "2023-09-24T20:18:51.716721Z"
    }
   },
   "outputs": [],
   "source": [
    "y_train = df_train.pop('imdb_score')\n",
    "x_train = df_train\n"
   ]
  },
  {
   "cell_type": "code",
   "execution_count": null,
   "metadata": {
    "execution": {
     "iopub.execute_input": "2023-09-24T20:19:19.312700Z",
     "iopub.status.busy": "2023-09-24T20:19:19.312207Z",
     "iopub.status.idle": "2023-09-24T20:19:19.319544Z",
     "shell.execute_reply": "2023-09-24T20:19:19.318599Z",
     "shell.execute_reply.started": "2023-09-24T20:19:19.312656Z"
    }
   },
   "outputs": [],
   "source": [
    "print(x_train.shape,y_train.shape)\n",
    "#print(x_test.shape,y_test.shape)"
   ]
  },
  {
   "cell_type": "markdown",
   "metadata": {},
   "source": [
    "# Model Creation \n",
    "\n",
    "- Using REF - Automted method to create initial model by \n",
    "    - automatic assessing and reducing the features set to use most significant features and \n",
    "    - giving significance levels for rest of the features \n",
    "    \n",
    "- Using manual method to create subsequent models by fine tuning based on \n",
    "     - assesing the value changes in R2 & R2 adjusted (should be a positive trend) with individual feature addition\n",
    "     - assesing the value of VIF for all features stating the corelation between independent features/variables(anything oving above 5 should be checked for)"
   ]
  },
  {
   "cell_type": "code",
   "execution_count": null,
   "metadata": {
    "execution": {
     "iopub.execute_input": "2023-09-24T20:19:33.506572Z",
     "iopub.status.busy": "2023-09-24T20:19:33.506157Z",
     "iopub.status.idle": "2023-09-24T20:19:33.678438Z",
     "shell.execute_reply": "2023-09-24T20:19:33.677032Z",
     "shell.execute_reply.started": "2023-09-24T20:19:33.506542Z"
    }
   },
   "outputs": [],
   "source": [
    "# Importing RFE and LinearRegression\n",
    "from sklearn.feature_selection import RFE\n",
    "from sklearn.linear_model import LinearRegression"
   ]
  },
  {
   "cell_type": "code",
   "execution_count": null,
   "metadata": {
    "execution": {
     "iopub.execute_input": "2023-09-24T20:19:37.736721Z",
     "iopub.status.busy": "2023-09-24T20:19:37.735673Z",
     "iopub.status.idle": "2023-09-24T20:19:37.924542Z",
     "shell.execute_reply": "2023-09-24T20:19:37.922713Z",
     "shell.execute_reply.started": "2023-09-24T20:19:37.736677Z"
    }
   },
   "outputs": [],
   "source": [
    "# Making RFE based auto model\n",
    "lm = LinearRegression()\n",
    "lm.fit(x_train, y_train)\n",
    "rfe = RFE(lm, n_features_to_select=9)             \n",
    "# running RFE with final 10 variable selection in output \n",
    "rfe = rfe.fit(x_train, y_train)"
   ]
  },
  {
   "cell_type": "code",
   "execution_count": null,
   "metadata": {
    "execution": {
     "iopub.execute_input": "2023-09-24T20:19:46.631240Z",
     "iopub.status.busy": "2023-09-24T20:19:46.630860Z",
     "iopub.status.idle": "2023-09-24T20:19:46.643809Z",
     "shell.execute_reply": "2023-09-24T20:19:46.642344Z",
     "shell.execute_reply.started": "2023-09-24T20:19:46.631211Z"
    }
   },
   "outputs": [],
   "source": [
    "list(zip(x_train.columns,rfe.support_,rfe.ranking_))"
   ]
  },
  {
   "cell_type": "code",
   "execution_count": null,
   "metadata": {
    "execution": {
     "iopub.execute_input": "2023-09-24T20:20:05.268873Z",
     "iopub.status.busy": "2023-09-24T20:20:05.268463Z",
     "iopub.status.idle": "2023-09-24T20:20:05.277151Z",
     "shell.execute_reply": "2023-09-24T20:20:05.276316Z",
     "shell.execute_reply.started": "2023-09-24T20:20:05.268823Z"
    }
   },
   "outputs": [],
   "source": [
    "col = x_train.columns[rfe.support_]\n",
    "col"
   ]
  },
  {
   "cell_type": "code",
   "execution_count": null,
   "metadata": {
    "execution": {
     "iopub.execute_input": "2023-09-24T20:20:16.869882Z",
     "iopub.status.busy": "2023-09-24T20:20:16.869442Z",
     "iopub.status.idle": "2023-09-24T20:20:16.878463Z",
     "shell.execute_reply": "2023-09-24T20:20:16.877125Z",
     "shell.execute_reply.started": "2023-09-24T20:20:16.869825Z"
    }
   },
   "outputs": [],
   "source": [
    "x_train.columns[~rfe.support_]"
   ]
  },
  {
   "cell_type": "code",
   "execution_count": null,
   "metadata": {
    "execution": {
     "iopub.execute_input": "2023-09-24T20:20:24.530880Z",
     "iopub.status.busy": "2023-09-24T20:20:24.529068Z",
     "iopub.status.idle": "2023-09-24T20:20:24.537227Z",
     "shell.execute_reply": "2023-09-24T20:20:24.536266Z",
     "shell.execute_reply.started": "2023-09-24T20:20:24.530802Z"
    }
   },
   "outputs": [],
   "source": [
    "x_train_rfe = x_train[col]"
   ]
  },
  {
   "cell_type": "code",
   "execution_count": null,
   "metadata": {
    "execution": {
     "iopub.execute_input": "2023-09-24T20:20:29.614940Z",
     "iopub.status.busy": "2023-09-24T20:20:29.614523Z",
     "iopub.status.idle": "2023-09-24T20:20:29.635234Z",
     "shell.execute_reply": "2023-09-24T20:20:29.634054Z",
     "shell.execute_reply.started": "2023-09-24T20:20:29.614908Z"
    }
   },
   "outputs": [],
   "source": [
    "x_train_rfe.head()"
   ]
  },
  {
   "cell_type": "code",
   "execution_count": null,
   "metadata": {
    "execution": {
     "iopub.execute_input": "2023-09-24T20:20:37.401481Z",
     "iopub.status.busy": "2023-09-24T20:20:37.401070Z",
     "iopub.status.idle": "2023-09-24T20:20:39.179064Z",
     "shell.execute_reply": "2023-09-24T20:20:39.178176Z",
     "shell.execute_reply.started": "2023-09-24T20:20:37.401451Z"
    }
   },
   "outputs": [],
   "source": [
    "import statsmodels.api as sm  \n",
    "x_train_rfe2 = sm.add_constant(x_train_rfe)"
   ]
  },
  {
   "cell_type": "code",
   "execution_count": null,
   "metadata": {
    "execution": {
     "iopub.execute_input": "2023-09-24T20:20:44.921536Z",
     "iopub.status.busy": "2023-09-24T20:20:44.920401Z",
     "iopub.status.idle": "2023-09-24T20:20:44.942096Z",
     "shell.execute_reply": "2023-09-24T20:20:44.941201Z",
     "shell.execute_reply.started": "2023-09-24T20:20:44.921474Z"
    }
   },
   "outputs": [],
   "source": [
    "x_train_rfe2.head()\n"
   ]
  },
  {
   "cell_type": "code",
   "execution_count": null,
   "metadata": {
    "execution": {
     "iopub.execute_input": "2023-09-24T20:20:48.423566Z",
     "iopub.status.busy": "2023-09-24T20:20:48.423123Z",
     "iopub.status.idle": "2023-09-24T20:20:48.443695Z",
     "shell.execute_reply": "2023-09-24T20:20:48.442476Z",
     "shell.execute_reply.started": "2023-09-24T20:20:48.423534Z"
    }
   },
   "outputs": [],
   "source": [
    "lm = sm.OLS(y_train,x_train_rfe2).fit()   # Running the linear model"
   ]
  },
  {
   "cell_type": "code",
   "execution_count": null,
   "metadata": {
    "execution": {
     "iopub.execute_input": "2023-09-24T20:20:52.801043Z",
     "iopub.status.busy": "2023-09-24T20:20:52.800598Z",
     "iopub.status.idle": "2023-09-24T20:20:52.846419Z",
     "shell.execute_reply": "2023-09-24T20:20:52.844922Z",
     "shell.execute_reply.started": "2023-09-24T20:20:52.801010Z"
    }
   },
   "outputs": [],
   "source": [
    "print(lm.summary())"
   ]
  },
  {
   "cell_type": "code",
   "execution_count": null,
   "metadata": {
    "execution": {
     "iopub.execute_input": "2023-09-24T20:21:01.068123Z",
     "iopub.status.busy": "2023-09-24T20:21:01.067694Z",
     "iopub.status.idle": "2023-09-24T20:21:01.084834Z",
     "shell.execute_reply": "2023-09-24T20:21:01.083458Z",
     "shell.execute_reply.started": "2023-09-24T20:21:01.068089Z"
    }
   },
   "outputs": [],
   "source": [
    "# Check for the VIF values of the feature variables. \n",
    "from statsmodels.stats.outliers_influence import variance_inflation_factor"
   ]
  },
  {
   "cell_type": "code",
   "execution_count": null,
   "metadata": {
    "execution": {
     "iopub.execute_input": "2023-09-24T20:21:16.084363Z",
     "iopub.status.busy": "2023-09-24T20:21:16.082895Z",
     "iopub.status.idle": "2023-09-24T20:21:16.149414Z",
     "shell.execute_reply": "2023-09-24T20:21:16.147900Z",
     "shell.execute_reply.started": "2023-09-24T20:21:16.084320Z"
    }
   },
   "outputs": [],
   "source": [
    "# Create a dataframe that will contain the names of all the feature variables and their respective VIFs\n",
    "vif = pd.DataFrame()\n",
    "vif['Features'] = x_train_rfe.columns\n",
    "vif['VIF'] = [variance_inflation_factor(x_train_rfe.values, i) for i in range(x_train_rfe.shape[1])]\n",
    "vif['VIF'] = round(vif['VIF'], 2)\n",
    "vif = vif.sort_values(by = \"VIF\", ascending = False)\n",
    "vif"
   ]
  },
  {
   "cell_type": "code",
   "execution_count": null,
   "metadata": {
    "execution": {
     "iopub.execute_input": "2023-09-24T20:21:24.825037Z",
     "iopub.status.busy": "2023-09-24T20:21:24.824564Z",
     "iopub.status.idle": "2023-09-24T20:21:24.880243Z",
     "shell.execute_reply": "2023-09-24T20:21:24.878678Z",
     "shell.execute_reply.started": "2023-09-24T20:21:24.825003Z"
    }
   },
   "outputs": [],
   "source": [
    "#Dropping feature 'lang_English' & Creating a new model\n",
    "x_train_new = x_train_rfe.drop('lang_English',axis = 1, inplace = False) \n",
    "x_train_lm2 = sm.add_constant(x_train_new)\n",
    "lm2 = sm.OLS(y_train,x_train_lm2).fit()   # Running the linear model\n",
    "print(lm2.summary())"
   ]
  },
  {
   "cell_type": "code",
   "execution_count": null,
   "metadata": {
    "execution": {
     "iopub.execute_input": "2023-09-24T20:21:32.856456Z",
     "iopub.status.busy": "2023-09-24T20:21:32.856069Z",
     "iopub.status.idle": "2023-09-24T20:21:32.912946Z",
     "shell.execute_reply": "2023-09-24T20:21:32.911561Z",
     "shell.execute_reply.started": "2023-09-24T20:21:32.856427Z"
    }
   },
   "outputs": [],
   "source": [
    "vif = pd.DataFrame()\n",
    "vif['Features'] = x_train_new.columns\n",
    "vif['VIF'] = [variance_inflation_factor(x_train_new.values, i) for i in range(x_train_new.shape[1])]\n",
    "vif['VIF'] = round(vif['VIF'], 2)\n",
    "vif = vif.sort_values(by = \"VIF\", ascending = False)\n",
    "vif"
   ]
  },
  {
   "cell_type": "code",
   "execution_count": null,
   "metadata": {
    "execution": {
     "iopub.execute_input": "2023-09-24T20:21:58.758489Z",
     "iopub.status.busy": "2023-09-24T20:21:58.757909Z",
     "iopub.status.idle": "2023-09-24T20:21:58.774011Z",
     "shell.execute_reply": "2023-09-24T20:21:58.772753Z",
     "shell.execute_reply.started": "2023-09-24T20:21:58.758442Z"
    }
   },
   "outputs": [],
   "source": [
    "num_vars = ['director_facebook_likes', 'actor_3_facebook_likes', 'actor_1_facebook_likes', 'gross', 'budget', 'title_year', 'actor_2_facebook_likes', 'aspect_ratio', 'movie_facebook_likes', 'Profit', 'Profit_Percentage', 'critic_review_ratio']\n",
    "df_test[num_vars] = scaler.transform(df_test[num_vars])\n"
   ]
  },
  {
   "cell_type": "code",
   "execution_count": null,
   "metadata": {
    "execution": {
     "iopub.execute_input": "2023-09-24T20:22:03.375415Z",
     "iopub.status.busy": "2023-09-24T20:22:03.375000Z",
     "iopub.status.idle": "2023-09-24T20:22:03.382179Z",
     "shell.execute_reply": "2023-09-24T20:22:03.380948Z",
     "shell.execute_reply.started": "2023-09-24T20:22:03.375383Z"
    }
   },
   "outputs": [],
   "source": [
    "y_test = df_test.pop('imdb_score')\n",
    "x_test = df_test"
   ]
  },
  {
   "cell_type": "code",
   "execution_count": null,
   "metadata": {
    "execution": {
     "iopub.execute_input": "2023-09-24T20:22:08.329917Z",
     "iopub.status.busy": "2023-09-24T20:22:08.329471Z",
     "iopub.status.idle": "2023-09-24T20:22:08.350858Z",
     "shell.execute_reply": "2023-09-24T20:22:08.349456Z",
     "shell.execute_reply.started": "2023-09-24T20:22:08.329884Z"
    }
   },
   "outputs": [],
   "source": [
    "X_test_m2 = sm.add_constant(x_test)"
   ]
  },
  {
   "cell_type": "code",
   "execution_count": null,
   "metadata": {
    "execution": {
     "iopub.execute_input": "2023-09-24T20:22:16.745020Z",
     "iopub.status.busy": "2023-09-24T20:22:16.744553Z",
     "iopub.status.idle": "2023-09-24T20:22:16.753353Z",
     "shell.execute_reply": "2023-09-24T20:22:16.751997Z",
     "shell.execute_reply.started": "2023-09-24T20:22:16.744985Z"
    }
   },
   "outputs": [],
   "source": [
    "X_test_m2 = X_test_m2.drop(['duration', 'num_voted_users', 'cast_total_facebook_likes', 'budget',\n",
    "       'aspect_ratio', 'Profit', 'Profit_Percentage', 'country_FR',\n",
    "       'country_UK', 'country_USA', 'genre_Action', 'genre_Adventure',\n",
    "       'genre_Comedy', 'genre_Crime', 'genre_Drama', 'genre_Horror',\n",
    "       'genre_Romance', 'contentRate_PG', 'contentRate_PG-13',\n",
    "       'contentRate_R','lang_English'], axis = 1)"
   ]
  },
  {
   "cell_type": "code",
   "execution_count": null,
   "metadata": {
    "execution": {
     "iopub.execute_input": "2023-09-24T20:22:30.036528Z",
     "iopub.status.busy": "2023-09-24T20:22:30.036042Z",
     "iopub.status.idle": "2023-09-24T20:22:30.047255Z",
     "shell.execute_reply": "2023-09-24T20:22:30.044712Z",
     "shell.execute_reply.started": "2023-09-24T20:22:30.036494Z"
    }
   },
   "outputs": [],
   "source": [
    "y_pred_m2 = lm2.predict(X_test_m2)"
   ]
  },
  {
   "cell_type": "code",
   "execution_count": null,
   "metadata": {
    "execution": {
     "iopub.execute_input": "2023-09-24T20:22:33.517900Z",
     "iopub.status.busy": "2023-09-24T20:22:33.517436Z",
     "iopub.status.idle": "2023-09-24T20:22:33.528448Z",
     "shell.execute_reply": "2023-09-24T20:22:33.526932Z",
     "shell.execute_reply.started": "2023-09-24T20:22:33.517833Z"
    }
   },
   "outputs": [],
   "source": [
    "r2_score(y_true = y_test, y_pred = y_pred_m2)"
   ]
  },
  {
   "cell_type": "code",
   "execution_count": null,
   "metadata": {
    "execution": {
     "iopub.execute_input": "2023-09-24T20:22:43.043539Z",
     "iopub.status.busy": "2023-09-24T20:22:43.043087Z",
     "iopub.status.idle": "2023-09-24T20:22:43.055227Z",
     "shell.execute_reply": "2023-09-24T20:22:43.053737Z",
     "shell.execute_reply.started": "2023-09-24T20:22:43.043506Z"
    }
   },
   "outputs": [],
   "source": [
    "y_pred_m2"
   ]
  },
  {
   "cell_type": "markdown",
   "metadata": {},
   "source": [
    "## -------------- Now running prediction on the Input Test Data "
   ]
  },
  {
   "cell_type": "code",
   "execution_count": null,
   "metadata": {
    "execution": {
     "iopub.execute_input": "2023-09-24T20:22:55.774510Z",
     "iopub.status.busy": "2023-09-24T20:22:55.773894Z",
     "iopub.status.idle": "2023-09-24T20:22:55.811158Z",
     "shell.execute_reply": "2023-09-24T20:22:55.809896Z",
     "shell.execute_reply.started": "2023-09-24T20:22:55.774456Z"
    }
   },
   "outputs": [],
   "source": [
    "mov_test.head()"
   ]
  },
  {
   "cell_type": "code",
   "execution_count": null,
   "metadata": {
    "execution": {
     "iopub.execute_input": "2023-09-24T20:34:53.456608Z",
     "iopub.status.busy": "2023-09-24T20:34:53.456095Z",
     "iopub.status.idle": "2023-09-24T20:34:53.465409Z",
     "shell.execute_reply": "2023-09-24T20:34:53.463921Z",
     "shell.execute_reply.started": "2023-09-24T20:34:53.456573Z"
    }
   },
   "outputs": [],
   "source": [
    "x_test_given = mov_test.iloc[ : ,1:28]\n",
    "y_pred1 = mov_test.iloc[ : ,0:1]\n",
    "print(x_test_given.shape,y_pred1.shape)"
   ]
  },
  {
   "cell_type": "code",
   "execution_count": null,
   "metadata": {
    "execution": {
     "iopub.execute_input": "2023-09-24T20:34:56.852044Z",
     "iopub.status.busy": "2023-09-24T20:34:56.851634Z",
     "iopub.status.idle": "2023-09-24T20:34:56.865500Z",
     "shell.execute_reply": "2023-09-24T20:34:56.864175Z",
     "shell.execute_reply.started": "2023-09-24T20:34:56.852014Z"
    }
   },
   "outputs": [],
   "source": [
    "num_vars = ['director_facebook_likes', 'actor_3_facebook_likes', 'actor_1_facebook_likes', 'gross', 'budget', 'title_year', 'actor_2_facebook_likes', 'aspect_ratio', 'movie_facebook_likes', 'Profit', 'Profit_Percentage', 'critic_review_ratio']\n",
    "x_test_given[num_vars] = scaler.transform(x_test_given[num_vars])\n"
   ]
  },
  {
   "cell_type": "code",
   "execution_count": null,
   "metadata": {
    "execution": {
     "iopub.execute_input": "2023-09-24T20:35:03.611541Z",
     "iopub.status.busy": "2023-09-24T20:35:03.611116Z",
     "iopub.status.idle": "2023-09-24T20:35:03.619374Z",
     "shell.execute_reply": "2023-09-24T20:35:03.618179Z",
     "shell.execute_reply.started": "2023-09-24T20:35:03.611510Z"
    }
   },
   "outputs": [],
   "source": [
    "x_test_given = x_test_given.drop(['duration', 'cast_total_facebook_likes', 'budget',\n",
    "       'aspect_ratio', 'Profit', 'Profit_Percentage', 'country_FR',\n",
    "       'country_UK', 'country_USA', 'genre_Action', 'genre_Adventure',\n",
    "       'genre_Comedy', 'genre_Crime', 'genre_Drama', 'genre_Horror', 'contentRate_PG', 'contentRate_PG-13',\n",
    "       'contentRate_R','lang_English'], axis = 1)"
   ]
  },
  {
   "cell_type": "code",
   "execution_count": null,
   "metadata": {
    "execution": {
     "iopub.execute_input": "2023-09-24T20:35:09.454123Z",
     "iopub.status.busy": "2023-09-24T20:35:09.453699Z",
     "iopub.status.idle": "2023-09-24T20:35:09.464329Z",
     "shell.execute_reply": "2023-09-24T20:35:09.463417Z",
     "shell.execute_reply.started": "2023-09-24T20:35:09.454090Z"
    }
   },
   "outputs": [],
   "source": [
    "x_test_given = sm.add_constant(x_test_given)"
   ]
  },
  {
   "cell_type": "code",
   "execution_count": null,
   "metadata": {
    "execution": {
     "iopub.execute_input": "2023-09-24T20:35:25.344811Z",
     "iopub.status.busy": "2023-09-24T20:35:25.344353Z",
     "iopub.status.idle": "2023-09-24T20:35:25.353000Z",
     "shell.execute_reply": "2023-09-24T20:35:25.351420Z",
     "shell.execute_reply.started": "2023-09-24T20:35:25.344778Z"
    }
   },
   "outputs": [],
   "source": [
    "y_pred1[\"imdb_score\"] = lm2.predict(x_test_given)  "
   ]
  },
  {
   "cell_type": "code",
   "execution_count": null,
   "metadata": {
    "execution": {
     "iopub.execute_input": "2023-09-24T20:35:28.975824Z",
     "iopub.status.busy": "2023-09-24T20:35:28.975433Z",
     "iopub.status.idle": "2023-09-24T20:35:28.991343Z",
     "shell.execute_reply": "2023-09-24T20:35:28.989735Z",
     "shell.execute_reply.started": "2023-09-24T20:35:28.975794Z"
    }
   },
   "outputs": [],
   "source": [
    "y_pred1"
   ]
  },
  {
   "cell_type": "code",
   "execution_count": null,
   "metadata": {
    "execution": {
     "iopub.execute_input": "2023-09-24T20:35:57.020700Z",
     "iopub.status.busy": "2023-09-24T20:35:57.020305Z",
     "iopub.status.idle": "2023-09-24T20:35:57.034172Z",
     "shell.execute_reply": "2023-09-24T20:35:57.032286Z",
     "shell.execute_reply.started": "2023-09-24T20:35:57.020671Z"
    }
   },
   "outputs": [],
   "source": [
    "submission = pd.DataFrame(y_pred1).set_index('s_no')\n",
    "submission.to_csv('output_submission.csv')"
   ]
  },
  {
   "cell_type": "code",
   "execution_count": null,
   "metadata": {},
   "outputs": [],
   "source": []
  },
  {
   "cell_type": "code",
   "execution_count": null,
   "metadata": {},
   "outputs": [],
   "source": []
  }
 ],
 "metadata": {
  "kernelspec": {
   "display_name": "Python 3 (ipykernel)",
   "language": "python",
   "name": "python3"
  },
  "language_info": {
   "codemirror_mode": {
    "name": "ipython",
    "version": 3
   },
   "file_extension": ".py",
   "mimetype": "text/x-python",
   "name": "python",
   "nbconvert_exporter": "python",
   "pygments_lexer": "ipython3",
   "version": "3.9.13"
  }
 },
 "nbformat": 4,
 "nbformat_minor": 4
}
